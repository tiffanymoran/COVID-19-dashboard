{
 "cells": [
  {
   "cell_type": "markdown",
   "metadata": {},
   "source": [
    "[DIY Covid-19 Dashboard Kit](https://github.com/fsmeraldi/diy-covid19dash) (C) Tiffany Moran, 2020 ([t.c.moran@se21.qmul.ac.uk](mailto:t.c.moran@se21.qmul.ac.uk)) All rights reserved."
   ]
  },
  {
   "cell_type": "markdown",
   "metadata": {},
   "source": [
    "# NHS COVID-19 Dashboard"
   ]
  },
  {
   "cell_type": "markdown",
   "metadata": {},
   "source": [
    "In this COVID-19 Dashboard you will see an information that takes data from [Public Health England](https://www.gov.uk/government/organisations/public-health-england) (PHE) and displays it in an interactive graph.\n",
    "\n",
    "The data that I have chosen to focus in on is vaccination rates across England over time, broken down by first dose, second dose, and boosters/third doses. This is because I was interested in seeing if certain events and dates correlated with any significant increase in vaccination rates. For example, with the recent news of the Omicron variant, you would be able to specify the week leading up to the news and the weeks after to see if an uptick in vaccinations occurred. "
   ]
  },
  {
   "cell_type": "code",
   "execution_count": 1,
   "metadata": {},
   "outputs": [],
   "source": [
    "from IPython.display import clear_output\n",
    "import ipywidgets as wdg\n",
    "import pandas as pd\n",
    "import numpy as np\n",
    "import matplotlib.pyplot as plt\n",
    "import json\n",
    "from uk_covid19 import Cov19API"
   ]
  },
  {
   "cell_type": "code",
   "execution_count": 16,
   "metadata": {},
   "outputs": [],
   "source": [
    "%matplotlib inline\n",
    "# make figures larger\n",
    "plt.rcParams['figure.dpi'] = 100"
   ]
  },
  {
   "cell_type": "code",
   "execution_count": 17,
   "metadata": {
    "scrolled": true,
    "tags": []
   },
   "outputs": [],
   "source": [
    "# Load JSON files and store the raw data\n",
    "f=open('vaccinationtracker.json')\n",
    "vaccinationdata=json.load(f)"
   ]
  },
  {
   "cell_type": "code",
   "execution_count": 4,
   "metadata": {},
   "outputs": [],
   "source": [
    "def parse_date(datestring):\n",
    "    return pd.to_datetime(datestring, format=\"%Y-%m-%d\")\n",
    "\n",
    "def wrangle_data(rawdata):\n",
    "    \"\"\" Parameters: rawdata - data from json file or API call. Returns a dataframe.\n",
    "    Edit to include the code that wrangles the data, creates the dataframe and fills it in. \"\"\"\n",
    "    datalist=rawdata['data']\n",
    "    dates=[dictionary['date'] for dictionary in datalist]\n",
    "    dates.sort()\n",
    "    startdate=parse_date(dates[0])\n",
    "    enddate=parse_date(dates[-1])\n",
    "    index=pd.date_range(startdate, enddate, freq='D')\n",
    "    df=pd.DataFrame(index=index, columns=['dose1', 'dose2', 'dose3'])\n",
    "    \n",
    "    for entry in datalist:\n",
    "        date=parse_date(entry['date'])\n",
    "        for column in ['dose1', 'dose2', 'dose3']:\n",
    "            if pd.isna(df.loc[date, column]):\n",
    "                value=float(entry[column]) if entry [column] != None else 0.0\n",
    "                df.loc[date, column]=value\n",
    "    \n",
    "    df.fillna(0.0, inplace=True)\n",
    "    return df\n",
    "\n",
    "\n",
    "# putting the wrangling code into a function allows you to call it again after refreshing the data through \n",
    "# the API. You should call the function directly on the JSON data when the dashboard starts, by including \n",
    "# the call in the cell as below:\n",
    "df=wrangle_data(vaccinationdata) # df is the dataframe for plotting\n",
    "\n"
   ]
  },
  {
   "cell_type": "code",
   "execution_count": 5,
   "metadata": {
    "scrolled": true,
    "tags": []
   },
   "outputs": [],
   "source": [
    "# Place your API access code in this function. Do not call this function directly; it will be called by \n",
    "# the button callback. \n",
    "def access_api():\n",
    "    \"\"\" Accesses the PHE API. Returns raw data in the same format as data loaded from the \"canned\" JSON file. \"\"\"\n",
    "    filters = [\n",
    "        'areaType=overview'\n",
    "    ]\n",
    "\n",
    "    structure = {\n",
    "        'date':'date',\n",
    "        'dose1':'cumVaccinationFirstDoseUptakeByPublishDatePercentage',\n",
    "        'dose2':'cumVaccinationSecondDoseUptakeByPublishDatePercentage',\n",
    "        'dose3':'cumVaccinationThirdInjectionUptakeByPublishDatePercentage'\n",
    "    }\n",
    "\n",
    "    api = Cov19API(filters=filters, structure=structure)\n",
    "\n",
    "    refreshdata=api.get_json()\n",
    "    return refreshdata # return data read from the API\n",
    "\n"
   ]
  },
  {
   "cell_type": "code",
   "execution_count": 6,
   "metadata": {},
   "outputs": [],
   "source": [
    "# Printout from this function will be lost in Voila unless captured in an\n",
    "# output widget - therefore, we give feedback to the user by changing the \n",
    "# appearance of the button\n",
    "def api_button_callback(button):\n",
    "    \"\"\" Button callback - it must take the button as its parameter (unused in this case).\n",
    "    Accesses API, wrangles data, updates global variable df used for plotting. \"\"\"\n",
    "    # Get fresh data from the API. If you have time, include some error handling\n",
    "    # around this call.\n",
    "    apidata=access_api()\n",
    "    # wrangle the data and overwrite the dataframe for plotting\n",
    "    global df\n",
    "    df=wrangle_data(apidata)\n",
    "    refresh_graph()\n",
    "    # the graph won't refresh until the user interacts with the widget.\n",
    "    # this function simulates the interaction, see Graph and Analysis below.\n",
    "    # you can omit this step in the first instance\n",
    "    # after all is done, you can switch the icon on the button to a \"check\" sign\n",
    "    # and optionally disable the button - it won't be needed again. You can use icons\n",
    "    # \"unlink\" or \"times\" and change the button text to \"Unavailable\" in case the \n",
    "    # api call fails.\n",
    "    apibutton.icon=\"check\"\n",
    "    apibutton.disabled=True\n",
    "\n",
    "    \n",
    "apibutton=wdg.Button(\n",
    "    description='Refresh data', # you may want to change this...\n",
    "    disabled=False,\n",
    "    button_style='', # 'success', 'info', 'warning', 'danger' or ''\n",
    "    tooltip=\"Click here to pull the latest COVID-19 data\",\n",
    "    # FontAwesome names without the `fa-` prefix - try \"download\"\n",
    "    icon='download'\n",
    ")\n",
    "\n",
    "# remember to register your button callback function with the button\n",
    "apibutton.on_click(api_button_callback) # the name of your function inside these brackets\n",
    "\n",
    "\n",
    "# run all cells before clicking on this button\n"
   ]
  },
  {
   "cell_type": "markdown",
   "metadata": {},
   "source": [
    "## Vaccination Rate Graph and Analysis"
   ]
  },
  {
   "cell_type": "markdown",
   "metadata": {},
   "source": [
    "This graph depicts dates for 2021 on the x-axis and the total vaccinated percentage of the English population on they y-axis. \n",
    "\n",
    "<b>Press to Refresh:</b>\n",
    "The graph presented might not have the most up-to-date data from PHE. You can click on the refresh button below to update the graph with the most recent dates and vaccination rates.\n",
    "\n",
    "<b>Vaccine Doses:</b>\n",
    "You are able to filter first doses, second doses, and third doses (defined as a combination of boosters for the general population and third doses for severely at risk individuals). These can be filtered one by one or multiple categories can be viewed simultaneously by CTRL+clicking.\n",
    "\n",
    "<b>Dates:</b>\n",
    "The dates included are all of the possible dates available, starting from January 10th 2021 to the most recent dates. The range of dates can be altered on the slider, which will subsequently update the graph.\n",
    "\n",
    "<b>Interesting Dates to Filter For:</b>\n",
    "- February 28th 2021 - 60+ Eligible for Vaccine\n",
    "- March 17th 2021 - 100th Day of Vaccine Program and 50+ Eligible for Vaccine\n",
    "- April 30th 2021 - 40+ Eligible for Vaccine\n",
    "- May 26th 2021 - 30+ Eligible for Vaccine\n",
    "- June 15th 2021 - CDC declares Delta Variant a concern\n",
    "- June 17th 2021 - All Adults Eligible for Vaccine\n",
    "- September 16th 2021 - NHS begins booster campaign\n",
    "- November 26th 2021 - WHO announces Omicron variant a concern\n",
    "\n"
   ]
  },
  {
   "cell_type": "code",
   "execution_count": null,
   "metadata": {},
   "outputs": [
    {
     "data": {
      "application/vnd.jupyter.widget-view+json": {
       "model_id": "083baaf7d771419eb49bbb302ef9de97",
       "version_major": 2,
       "version_minor": 0
      },
      "text/plain": [
       "Output()"
      ]
     },
     "metadata": {},
     "output_type": "display_data"
    },
    {
     "data": {
      "application/vnd.jupyter.widget-view+json": {
       "model_id": "ea27f95a30ec4dcd909c142820c9097c",
       "version_major": 2,
       "version_minor": 0
      },
      "text/plain": [
       "VBox(children=(SelectMultiple(description='Vaccine Doses:', index=(0, 1, 2), layout=Layout(width='400px'), opt…"
      ]
     },
     "metadata": {},
     "output_type": "display_data"
    },
    {
     "data": {
      "application/vnd.jupyter.widget-view+json": {
       "model_id": "b07d5f7b18504cacb910631c47fd69c4",
       "version_major": 2,
       "version_minor": 0
      },
      "text/plain": [
       "Button(description='Refresh data', icon='download', style=ButtonStyle(), tooltip='Click here to pull the lates…"
      ]
     },
     "metadata": {},
     "output_type": "display_data"
    }
   ],
   "source": [
    "series=wdg.SelectMultiple(\n",
    "    options=['dose1', 'dose2', 'dose3'],\n",
    "    value=['dose1', 'dose2', 'dose3'],\n",
    "    rows=3,\n",
    "    description='Vaccine Doses:',\n",
    "    disabled=False,\n",
    "    layout={'width': '400px'}\n",
    ")\n",
    "\n",
    "dates = [(i.strftime('%b %d'), i) for i in df.index]\n",
    "slide=wdg.SelectionRangeSlider(\n",
    "    options=dates,\n",
    "    index=(0, len(dates)-1),\n",
    "    description='Dates (2021):',\n",
    "    disabled=False,\n",
    "    continuous_update=False,\n",
    "    tooltips=\"Select date range for chart\",\n",
    "    layout={'width': '520px'}\n",
    ")\n",
    "\n",
    "controls=wdg.VBox([series, slide])\n",
    "\n",
    "def vaccinationtracker_graph(gcols, gslide):\n",
    "    ncols=len(gcols)\n",
    "    gslide=parse_date(slide.value)\n",
    "    plt.show()\n",
    "    if ncols>0:\n",
    "        df[list(gcols)].loc[slide.value[0]:slide.value[1]].plot(colormap='Set3',\n",
    "         title='UK Vaccination Rate Over Time', xlabel='Dates', ylabel='% Percent of Vaccinated Population')\n",
    "        plt.show() # important - graphs won't update if this is missing \n",
    "    else:\n",
    "        print(\"Click to select data for graph\")\n",
    "        print(\"(CTRL-Click to select more than one category)\")\n",
    "    if slide.value[0]==slide.value[1]:\n",
    "        print(\"Select a bigger range of dates for graph\")\n",
    "\n",
    "def refresh_graph():\n",
    "    dates = [(i.strftime('%b %d'), i) for i in df.index]\n",
    "    slide.options=dates\n",
    "    slide.index=(0, len(dates)-1)\n",
    "  \n",
    "graph=wdg.interactive_output(vaccinationtracker_graph, {'gcols': series, 'gslide': slide})\n",
    "\n",
    "display(graph, controls, apibutton)\n",
    "\n",
    "\n"
   ]
  },
  {
   "cell_type": "markdown",
   "metadata": {},
   "source": [
    "**Author and Copyright Notice**  \n",
    "*(C) Tiffany Moran, 2020 all rights reserved.* <br>\n",
    "*Based on UK Government [data](https://coronavirus.data.gov.uk/) published by [Public Health England](https://www.gov.uk/government/organisations/public-health-england).*"
   ]
  }
 ],
 "metadata": {
  "kernelspec": {
   "display_name": "Python 3 (ipykernel)",
   "language": "python",
   "name": "python3"
  },
  "language_info": {
   "codemirror_mode": {
    "name": "ipython",
    "version": 3
   },
   "file_extension": ".py",
   "mimetype": "text/x-python",
   "name": "python",
   "nbconvert_exporter": "python",
   "pygments_lexer": "ipython3",
   "version": "3.7.12"
  }
 },
 "nbformat": 4,
 "nbformat_minor": 4
}
